{
  "nbformat": 4,
  "nbformat_minor": 0,
  "metadata": {
    "colab": {
      "provenance": [],
      "collapsed_sections": [
        "2Bt3J4Ki5FJc"
      ],
      "toc_visible": true
    },
    "kernelspec": {
      "display_name": "Python 3",
      "name": "python3"
    }
  },
  "cells": [
    {
      "cell_type": "markdown",
      "source": [
        "#DevFest 2023 - Data Science & AI/ML Demos\n",
        "\n",
        "**Authors**: jlmarechaux@google.com\n",
        "\n",
        "(October 2023)\n",
        "\n",
        "..\n",
        "\n",
        "\n",
        "\n",
        "---\n",
        "\n",
        "**Responsible AI** is an approach to developing and deploying AI systems that takes into account the ethical, legal, and social implications of the technology. It is about using AI in a way that is safe, fair, and beneficial to society.\n",
        "For further information, refer to the following:\n",
        "* Montréal declaration for a responsible development of artificial intelligence: https://montrealdeclaration-responsibleai.com/\n",
        "* Google Responsible AI:\n",
        "https://ai.google/responsibility/principles/\n",
        "\n",
        "\n",
        "\n",
        "---\n",
        "\n"
      ],
      "metadata": {
        "id": "LjRnk28TPKBB"
      }
    },
    {
      "cell_type": "markdown",
      "source": [
        "**DEMO CODE - DO NOT USE IN PRODUCTION**"
      ],
      "metadata": {
        "id": "LTwsfa6ZnJa5"
      }
    },
    {
      "cell_type": "code",
      "source": [
        "###########################################################################\n",
        "#\n",
        "#  Copyright 2023 Google Inc.\n",
        "#\n",
        "#  Licensed under the Apache License, Version 2.0 (the \"License\");\n",
        "#  you may not use this file except in compliance with the License.\n",
        "#  You may obtain a copy of the License at\n",
        "#\n",
        "#      https://www.apache.org/licenses/LICENSE-2.0\n",
        "#\n",
        "#  Unless required by applicable law or agreed to in writing, software\n",
        "#  distributed under the License is distributed on an \"AS IS\" BASIS,\n",
        "#  WITHOUT WARRANTIES OR CONDITIONS OF ANY KIND, either express or implied.\n",
        "#  See the License for the specific language governing permissions and\n",
        "#  limitations under the License.\n",
        "#\n",
        "# This solution, including any related sample code or data, is made available\n",
        "# on an “as is,” “as available,” and “with all faults” basis, solely for\n",
        "# illustrative purposes, and without warranty or representation of any kind.\n",
        "# This solution is experimental, unsupported and provided solely for your\n",
        "# convenience. Your use of it is subject to your agreements with Google, as\n",
        "# applicable, and may constitute a beta feature as defined under those\n",
        "# agreements.  To the extent that you make any data available to Google in\n",
        "# connection with your use of the solution, you represent and warrant that you\n",
        "# have all necessary and appropriate rights, consents and permissions to permit\n",
        "# Google to use and process that data.  By using any portion of this solution,\n",
        "# you acknowledge, assume and accept all risks, known and unknown, associated\n",
        "# with its usage, including with respect to your deployment of any portion of\n",
        "# this solution in your systems, or usage in connection with your business,\n",
        "# if at all.\n",
        "###########################################################################"
      ],
      "metadata": {
        "id": "PhV1ABkYm-YE"
      },
      "execution_count": null,
      "outputs": []
    },
    {
      "cell_type": "markdown",
      "source": [
        "# Google Cloud Free Trial\n",
        "\n",
        "All new users get $300 in free credits to fully explore and conduct an assessment of Google Cloud.\n",
        "https://youtu.be/ogzJovMsDIU <br>\n",
        "\n",
        "You can use the free trial to run all the demos in this notbook.\n"
      ],
      "metadata": {
        "id": "dAIyrvu3IKFF"
      }
    },
    {
      "cell_type": "markdown",
      "source": [
        "# **DEMO 1**: Data exploration & visualization"
      ],
      "metadata": {
        "id": "tqGzrl6w29QG"
      }
    },
    {
      "cell_type": "markdown",
      "source": [
        "## 1: Demo in BigQuery\n"
      ],
      "metadata": {
        "id": "ToNmnh5_YC8f"
      }
    },
    {
      "cell_type": "markdown",
      "source": [
        "### BigQuery console\n",
        "https://console.cloud.google.com/"
      ],
      "metadata": {
        "id": "2Bt3J4Ki5FJc"
      }
    },
    {
      "cell_type": "markdown",
      "source": [
        "\n",
        "\n",
        "1.   **Data Profile**: Statistical characteristics of the columns in a BigQuery table\n",
        "2.   **Chart** (preview): BQ graphs based on query result\n",
        "3. **Code generation** (Gen AI preview): SQL query generation based on natural language\n",
        "\n"
      ],
      "metadata": {
        "id": "1N4pbfAt4ByM"
      }
    },
    {
      "cell_type": "markdown",
      "source": [
        "### BigQuery Notebook (preview)\n",
        "Run this section from a BQ Notebook.\n",
        "https://cloud.google.com/bigquery/docs/notebooks-introduction"
      ],
      "metadata": {
        "id": "mnsyGiXG5VQR"
      }
    },
    {
      "cell_type": "code",
      "source": [
        "# Library import\n",
        "\n",
        "import pandas as pd\n",
        "from google.cloud import bigquery\n",
        "import plotly.express as px\n"
      ],
      "metadata": {
        "id": "aZlSu-n1704C"
      },
      "execution_count": null,
      "outputs": []
    },
    {
      "cell_type": "code",
      "source": [
        "#Authentication (if needed)\n",
        "\n",
        "import os\n",
        "\n",
        "if \"GOOGLE_CLOUD_REGION\" in os.environ:\n",
        "  print(\"This notebook is running in Google Cloud. No additional authentication is needed\")\n",
        "else:\n",
        "  print(\"This notebook is running in Google Colab.\")\n",
        "  from google.colab import auth\n",
        "  auth.authenticate_user()"
      ],
      "metadata": {
        "id": "gLACzPeYitWv"
      },
      "execution_count": null,
      "outputs": []
    },
    {
      "cell_type": "code",
      "source": [
        "#Project & tables\n",
        "\n",
        "# MUST BE CHANGED: The identifier of your Google Cloud project\n",
        "project_id = \"<your-project-id>\" #@param\n",
        "\n",
        "# MUST BE CHANGED: Variable related to your GA dataset and tables\n",
        "ga_project_id = \"bigquery-public-data\" #@param\n",
        "ga_dataset = \"ga4_obfuscated_sample_ecommerce\" #@param\n",
        "ga_data = \"events_*\" #@param"
      ],
      "metadata": {
        "id": "ebYjmW8Kiz3L"
      },
      "execution_count": null,
      "outputs": []
    },
    {
      "cell_type": "code",
      "source": [
        "#Connection to BigQuery\n",
        "\n",
        "client = bigquery.Client(location=\"US\", project=project_id)\n",
        "print(f\"BQ client created using project ID: {client.project}\")"
      ],
      "metadata": {
        "id": "y0FvjK91i4LZ"
      },
      "execution_count": null,
      "outputs": []
    },
    {
      "cell_type": "code",
      "source": [
        "#Read data from BigQuery\n",
        "\n",
        "# Define query to retrieve some data from GA4 tables\n",
        "# Uses project, dataset, and table define above\n",
        "\n",
        "query = f\"\"\"\n",
        "    SELECT user_pseudo_id,\n",
        "      event_date as first_transaction_date,\n",
        "      ecommerce.purchase_revenue as purchase_rev,\n",
        "      geo.continent as geo,\n",
        "      geo.country as country,\n",
        "      device.category as device,\n",
        "      device.operating_system as device_os,\n",
        "      traffic_source.medium as source\n",
        "    FROM `{ga_project_id}.{ga_dataset}.{ga_data}`\n",
        "    WHERE ecommerce.purchase_revenue >= 1\n",
        "\"\"\"\n",
        "\n",
        "\n",
        "query_job = client.query(\n",
        "    query,\n",
        "    # Location must match that of the dataset(s) referenced in the query.\n",
        "    location=\"US\",\n",
        ")  # API request - starts the query\n",
        "\n",
        "df = query_job.to_dataframe()\n",
        "print(f\"Read from BQ table {ga_data} completed.\")\n",
        "\n",
        "df.describe(include='object')"
      ],
      "metadata": {
        "id": "ANAox82Xi5N_"
      },
      "execution_count": null,
      "outputs": []
    },
    {
      "cell_type": "code",
      "source": [
        "# Overview of purchase trends\n",
        "\n",
        "grouped_data = df.groupby(['first_transaction_date']).sum(numeric_only=True)\n",
        "fig = px.line(grouped_data, x=grouped_data.index, y=\"purchase_rev\", title = \"Purchase revenue over time\")\n",
        "fig.show()"
      ],
      "metadata": {
        "id": "srm0lkZmjCTw"
      },
      "execution_count": null,
      "outputs": []
    },
    {
      "cell_type": "code",
      "source": [
        "#Purchase revenue by country\n",
        "\n",
        "df_filtered = df[df['country'].isin(['Australia', 'Canada', 'Italy']) ]\n",
        "df_sorted = df_filtered.sort_values(by='first_transaction_date', ascending=True)\n",
        "\n",
        "fig = px.bar(df_sorted, x='first_transaction_date', y=\"purchase_rev\", color='country', title = 'Purchase revenue: Australie, Canada, Italy')\n",
        "fig.show()"
      ],
      "metadata": {
        "id": "Ki8Te6wNjERj"
      },
      "execution_count": null,
      "outputs": []
    },
    {
      "cell_type": "markdown",
      "source": [
        "## 2: Reading LARGE datasets"
      ],
      "metadata": {
        "id": "25f04wwh6bsP"
      }
    },
    {
      "cell_type": "markdown",
      "source": [
        "---> Switch to Google Colab, but all the demos could run in Colab or in BQ Notebook."
      ],
      "metadata": {
        "id": "iqBHnyZL5bA1"
      }
    },
    {
      "cell_type": "markdown",
      "source": [
        "### Large dataset in a Pandas Dataframe"
      ],
      "metadata": {
        "id": "7GvCAxNJ7Zxq"
      }
    },
    {
      "cell_type": "code",
      "source": [
        "# Imports and config\n",
        "\n",
        "import pandas as pd\n",
        "from google.cloud import bigquery\n",
        "import plotly.express as px\n",
        "\n",
        "project_id = \"<your-project-id>\" #@param"
      ],
      "metadata": {
        "id": "UvklJta6nEig"
      },
      "execution_count": null,
      "outputs": []
    },
    {
      "cell_type": "code",
      "source": [
        "#Authentication (if needed)\n",
        "\n",
        "import os\n",
        "\n",
        "if \"GOOGLE_CLOUD_REGION\" in os.environ:\n",
        "  print(\"This notebook is running in Google Cloud. No additional authentication is needed\")\n",
        "else:\n",
        "  print(\"This notebook is running in Google Colab.\")\n",
        "  from google.colab import auth\n",
        "  auth.authenticate_user()"
      ],
      "metadata": {
        "id": "UFwAVysdIoof"
      },
      "execution_count": null,
      "outputs": []
    },
    {
      "cell_type": "code",
      "source": [
        "# Connection to BigQuery\n",
        "\n",
        "client = bigquery.Client(location=\"US\", project=project_id)\n",
        "print(f\"BQ client created using project ID: {client.project}\")"
      ],
      "metadata": {
        "id": "nOoTn20cm66N"
      },
      "execution_count": null,
      "outputs": []
    },
    {
      "cell_type": "code",
      "source": [
        "# A query to read 50M rows form wikipedia dataset (YES, 50 M !!!)\n",
        "\n",
        "large_query = f\"\"\"\n",
        "   SELECT *\n",
        "   FROM bigquery-samples.wikipedia_pageviews.200809h\n",
        "   LIMIT 50000000\n",
        "\"\"\""
      ],
      "metadata": {
        "id": "242Y_O9Usm6s"
      },
      "execution_count": null,
      "outputs": []
    },
    {
      "cell_type": "code",
      "source": [
        "\n",
        "client = bigquery.Client(location=\"US\", project=project_id)\n",
        "\n",
        "print(f\"BQ client created using project ID: {client.project}\")\n",
        "\n",
        "# Running read job on BigQuery\n",
        "query_job = client.query(\n",
        "    large_query,\n",
        "    # Location must match that of the dataset(s) referenced in the query.\n",
        "    location=\"US\",\n",
        ")  # API request - starts the query\n",
        "\n",
        "# Data read from BQ is stored in a Pands dataframe object\n",
        "df = query_job.to_dataframe()\n",
        "df.info()\n",
        "\n"
      ],
      "metadata": {
        "id": "Ycm1XSwH6hVk"
      },
      "execution_count": null,
      "outputs": []
    },
    {
      "cell_type": "markdown",
      "source": [
        "#### Query result"
      ],
      "metadata": {
        "id": "ugUBduWU7PeG"
      }
    },
    {
      "cell_type": "markdown",
      "source": [
        "The Notebook environment crashes because there is not enough RAM to store all  data (50M rows) in a Pandas dataframe <br>\n",
        "\n",
        "![colab-crash.png](data:image/png;base64,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)"
      ],
      "metadata": {
        "id": "BRa9Tdhx8FAD"
      }
    },
    {
      "cell_type": "markdown",
      "source": [
        "### Large dataset in a BigQuery Dataframes\n",
        "https://cloud.google.com/python/docs/reference/bigframes/latest <br>\n",
        "\n",
        "BigQuery DataFrames (preview) is a Python API that you can use to analyze data and perform machine learning tasks in BigQuery. BigQuery DataFrames consists of the following parts:\n",
        "\n",
        "- bigframes.pandas implements a DataFrame API (with partial Pandas compatibility) on top of BigQuery.\n",
        "- bigframes.ml implements a Python API for BigQuery ML (with partial scikit-learn compatibility)"
      ],
      "metadata": {
        "id": "Pp_dX-CPCK1A"
      }
    },
    {
      "cell_type": "code",
      "source": [
        "!pip install -q bigframes\n",
        "import bigframes.pandas as bqdf"
      ],
      "metadata": {
        "id": "9yUL3Sk9B-sP"
      },
      "execution_count": null,
      "outputs": []
    },
    {
      "cell_type": "code",
      "source": [
        "#Authentication (if needed)\n",
        "\n",
        "import os\n",
        "\n",
        "if \"GOOGLE_CLOUD_REGION\" in os.environ:\n",
        "  print(\"This notebook is running in Google Cloud. No additional authentication is needed\")\n",
        "else:\n",
        "  print(\"This notebook is running in Google Colab.\")\n",
        "  from google.colab import auth\n",
        "  auth.authenticate_user()"
      ],
      "metadata": {
        "id": "D609wjuBJ9gZ"
      },
      "execution_count": null,
      "outputs": []
    },
    {
      "cell_type": "code",
      "source": [
        "# The following query will take approximatively 42 seconds to run\n",
        "\n",
        "project_id = \"<your-project-id>\"\n",
        "\n",
        "# Set BigQuery DataFrames options\n",
        "bqdf.options.bigquery.project = project_id\n",
        "bqdf.options.bigquery.location = \"us\"\n",
        "\n",
        "# A query to read 50M rows form wikipedia dataset (YES, 50 M !!!)\n",
        "large_query = f\"\"\"\n",
        "   SELECT *\n",
        "   FROM bigquery-samples.wikipedia_pageviews.200809h\n",
        "   LIMIT 50000000\n",
        "\"\"\"\n",
        "\n",
        "# Reusing the query defined before: 50M rows\n",
        "df_test = bqdf.read_gbq(large_query)"
      ],
      "metadata": {
        "id": "5kw_k-ZT9WFQ"
      },
      "execution_count": null,
      "outputs": []
    },
    {
      "cell_type": "code",
      "source": [
        "# The df_test dataframe (BQ dataframe) is a pointer to a BQ table thant contains 50M rows\n",
        "df_test"
      ],
      "metadata": {
        "id": "vMdF01Q_8ayK"
      },
      "execution_count": null,
      "outputs": []
    },
    {
      "cell_type": "markdown",
      "source": [
        "With BigQuery DataFrames, I can visualize and analyze large, **VERY LARGE** datasets <br>\n",
        "A BQ DataFrames is a reference to a BQ table."
      ],
      "metadata": {
        "id": "P8sf2TixOhDT"
      }
    },
    {
      "cell_type": "markdown",
      "source": [
        "## 3: Read data using BQ DataFrames API"
      ],
      "metadata": {
        "id": "QthUGW67fVWO"
      }
    },
    {
      "cell_type": "code",
      "source": [
        "bqdf.options.bigquery.project = project_id\n",
        "bqdf.options.bigquery.location = \"us\"\n",
        "\n",
        "# Read data from BQ table using BigFrames & SQL QUERY\n",
        "\n",
        "\n",
        "sql_query = f\"\"\"\n",
        "  SELECT user_pseudo_id,\n",
        "    event_date as first_transaction_date,\n",
        "    ecommerce.purchase_revenue as purchase_rev,\n",
        "    geo.country as country,\n",
        "    geo.continent as geo,\n",
        "    device.category as device,\n",
        "    device.operating_system as device_os,\n",
        "    traffic_source.medium as source\n",
        "  FROM `bigquery-public-data.ga4_obfuscated_sample_ecommerce.events_*`\n",
        "  WHERE ecommerce.purchase_revenue >= 1\n",
        "  ORDER BY first_transaction_date ASC\n",
        "\"\"\"\n",
        "\n",
        "\n",
        "\n",
        "df2 = bqdf.read_gbq(sql_query)\n",
        "df2"
      ],
      "metadata": {
        "id": "v6VCPlJHYsNq"
      },
      "execution_count": null,
      "outputs": []
    },
    {
      "cell_type": "code",
      "source": [
        "# Plotly libraries\n",
        "import plotly.express as px\n",
        "import plotly.graph_objects as go"
      ],
      "metadata": {
        "id": "GU_JcskxiaUA"
      },
      "execution_count": null,
      "outputs": []
    },
    {
      "cell_type": "code",
      "source": [
        "fig = px.box(df2, x=\"geo\", y=\"purchase_rev\", color = \"device\")"
      ],
      "metadata": {
        "id": "rt5MghfDd4BB"
      },
      "execution_count": null,
      "outputs": []
    },
    {
      "cell_type": "code",
      "source": [
        "fig.show()"
      ],
      "metadata": {
        "id": "-bkmm2k_mALU"
      },
      "execution_count": null,
      "outputs": []
    },
    {
      "cell_type": "markdown",
      "source": [
        "# **DEMO 2:** ML Modeling - Predict purchase revenue"
      ],
      "metadata": {
        "id": "RbqGNYvDFZq2"
      }
    },
    {
      "cell_type": "markdown",
      "source": [
        "## 1: Demo 2 setup"
      ],
      "metadata": {
        "id": "Z5JeXmi_kJDb"
      }
    },
    {
      "cell_type": "code",
      "source": [
        "!pip install -q icecream\n",
        "!pip install -q bigframes\n",
        "\n",
        "import bigframes.pandas as bqdf\n",
        "import pandas as pd\n",
        "from google.cloud import bigquery\n",
        "from icecream import ic"
      ],
      "metadata": {
        "id": "oI4HUQ9GkFpF"
      },
      "execution_count": null,
      "outputs": []
    },
    {
      "cell_type": "markdown",
      "source": [
        "## 2: Quick ML model with BQ DataFrames ML API"
      ],
      "metadata": {
        "id": "TbmjTJFmJzfR"
      }
    },
    {
      "cell_type": "markdown",
      "source": [
        "The BigQuery Dataframes API is not limited to data analysis. It also provides capabilities to perform machine learning tasks in BigQuery. <br>\n",
        "\n",
        "\n",
        "*   bigframes.ml\n",
        "\n",
        "\n"
      ],
      "metadata": {
        "id": "DOPFHC-QAnvH"
      }
    },
    {
      "cell_type": "code",
      "source": [
        "project_id = \"<your-project-id>\"\n",
        "\n",
        "# Set BigQuery DataFrames options\n",
        "bqdf.options.bigquery.project = project_id\n",
        "bqdf.options.bigquery.location = \"us\""
      ],
      "metadata": {
        "id": "sRhGIZ8FJszA"
      },
      "execution_count": null,
      "outputs": []
    },
    {
      "cell_type": "code",
      "source": [
        "\n",
        "\n",
        "# Read data from BQ table using BigFrames & SQL QUERY\n",
        "# The data includ users interaction with website and app\n",
        "\n",
        "\n",
        "sql_query = f\"\"\"\n",
        "  SELECT user_pseudo_id,\n",
        "    PARSE_DATE('%Y%m%d',event_date) AS first_transaction_date,\n",
        "    ecommerce.purchase_revenue as purchase_rev,\n",
        "    geo.country as country,\n",
        "    geo.continent as geo,\n",
        "    device.category as device,\n",
        "    device.operating_system as device_os,\n",
        "    traffic_source.medium as source\n",
        "  FROM `bigquery-public-data.ga4_obfuscated_sample_ecommerce.events_*`\n",
        "  WHERE ecommerce.purchase_revenue >= 1\n",
        "  ORDER BY first_transaction_date ASC\n",
        "\"\"\"\n",
        "\n",
        "\n",
        "\n",
        "df = bqdf.read_gbq(sql_query)\n",
        "\n",
        "ic(\"Read using BQ dataframes API completed\")\n",
        "df.columns\n",
        "# df.shape\n",
        "# df"
      ],
      "metadata": {
        "id": "SyJe25m9J4zE"
      },
      "execution_count": null,
      "outputs": []
    },
    {
      "cell_type": "code",
      "source": [
        "# The following code is for demo purpose only.\n",
        "# A recommended practice would be to split the data into train, test (or train validation, test sets)\n",
        "\n",
        "# Historical data : Everything before January 1st, 2021\n",
        "historical_data = df[df['first_transaction_date'] < '2021-01-01']\n",
        "# Recent data : From  January 1st, 2021 and after\n",
        "recent_data = df[df['first_transaction_date'] >= '2021-01-01']\n",
        "\n",
        "# training_data\n",
        "# test_data"
      ],
      "metadata": {
        "id": "l9Z3lq-rOixv"
      },
      "execution_count": null,
      "outputs": []
    },
    {
      "cell_type": "code",
      "source": [
        "# historical_data.shape\n",
        "recent_data.shape"
      ],
      "metadata": {
        "id": "8lFrP1fO5Sdd"
      },
      "execution_count": null,
      "outputs": []
    },
    {
      "cell_type": "code",
      "source": [
        "# pick feature columns and label column\n",
        "# feature_columns = training_data[['first_transaction_date', 'country', 'geo', 'device', 'device_os', 'source']]\n",
        "# label_columns = training_data[['purchase_rev']]\n",
        "\n",
        "\n",
        "# # pick feature columns and label column\n",
        "feature_columns = recent_data[['first_transaction_date', 'country', 'geo', 'device', 'device_os', 'source']]\n",
        "label_columns = recent_data[['purchase_rev']]"
      ],
      "metadata": {
        "id": "cSrIQ0s3a8vU"
      },
      "execution_count": null,
      "outputs": []
    },
    {
      "cell_type": "code",
      "source": [
        "# This cell will take a couple of minutes to complete (model training)\n",
        "\n",
        "# Using the XGBRegressor from the bigframes.ml package\n",
        "from bigframes.ml.ensemble import XGBRegressor\n",
        "model = XGBRegressor()\n",
        "# Here we pass the feature columns without transforms - BQML will then use\n",
        "# automatic preprocessing to encode these columns\n",
        "model.fit(feature_columns, label_columns)\n",
        "\n"
      ],
      "metadata": {
        "id": "PyD1r2HSbU68"
      },
      "execution_count": null,
      "outputs": []
    },
    {
      "cell_type": "code",
      "source": [
        "# check how the model performed\n",
        "model.score(feature_columns, label_columns)"
      ],
      "metadata": {
        "id": "uh_QTsWpbYRa"
      },
      "execution_count": null,
      "outputs": []
    },
    {
      "cell_type": "markdown",
      "source": [
        "### Quick ML model results"
      ],
      "metadata": {
        "id": "e9G5XOaW6HBq"
      }
    },
    {
      "cell_type": "markdown",
      "source": [
        "The model is not very good, with a R-Squared value around 0.43. <br>\n",
        "Feature engineering and model tuning should be considered to improve this model. <br> <br>\n",
        "![r2-bqdf.png](data:image/png;base64,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)"
      ],
      "metadata": {
        "id": "QOEwwaf16MiM"
      }
    },
    {
      "cell_type": "markdown",
      "source": [
        "## 3: Refining ML modeling"
      ],
      "metadata": {
        "id": "egci_LFSd5E1"
      }
    },
    {
      "cell_type": "code",
      "source": [
        "project_id = \"<your-project-id>\"\n",
        "model_dataset = \"AA_DevFest23\"\n",
        "client = bigquery.Client(location=\"US\", project=project_id)\n",
        "\n",
        "print(f\"BQ client created using project ID: {client.project}\")\n",
        "\n",
        "\n",
        "\n"
      ],
      "metadata": {
        "id": "J2EcMQMWgO7i"
      },
      "execution_count": null,
      "outputs": []
    },
    {
      "cell_type": "markdown",
      "source": [
        "Simple feature engineering. The query now includes:\n",
        "\n",
        "\n",
        "*   Online data (location, date, device, source)\n",
        "*   Online user behaviors (browsing activities)\n",
        "*   CRM data (info on existing clients)\n",
        "\n",
        "\n"
      ],
      "metadata": {
        "id": "KJdKJvNp7r4V"
      }
    },
    {
      "cell_type": "code",
      "source": [
        "# Simple feature engineering.\n",
        "feature_eng_query = f\"\"\"\n",
        "  With online_data AS (\n",
        "    SELECT\n",
        "      CONCAT('c',user_pseudo_id) AS ga_customer_id,\n",
        "      PARSE_DATE('%Y%m%d',event_date) AS first_transaction_date,\n",
        "      ecommerce.purchase_revenue as purchase_rev,\n",
        "      geo.country as country,\n",
        "      geo.continent as geo,\n",
        "      device.category as device,\n",
        "      device.operating_system as device_os,\n",
        "      traffic_source.medium as source\n",
        "    FROM `bigquery-public-data.ga4_obfuscated_sample_ecommerce.events_*`\n",
        "    WHERE _TABLE_SUFFIX BETWEEN '20210101' AND '20210131' AND ecommerce.purchase_revenue IS NOT NULL)\n",
        "    ,\n",
        "    online_behavior AS (\n",
        "      SELECT\n",
        "          CONCAT('c',user_pseudo_id) AS customer_id,\n",
        "          PARSE_DATE('%Y%m%d',event_date) AS event_date,\n",
        "          SUM(CASE WHEN event_name = 'page_view' THEN 1 ELSE 0 END) AS ga_page_view_count,\n",
        "          SUM(CASE WHEN event_name = 'view_item' THEN 1 ELSE 0 END) AS ga_view_item_count,\n",
        "          MAX(CASE WHEN event_name = 'first_visit' THEN 1 ELSE 0 END) AS ga_first_visit,\n",
        "          MAX(CASE WHEN event_name = 'view_promotion' THEN 1 ELSE 0 END) AS ga_view_promotion,\n",
        "          MAX(CASE WHEN event_name = 'add_to_cart' THEN 1 ELSE 0 END) AS ga_add_to_cart,\n",
        "          MAX(CASE WHEN event_name = 'begin_checkout' THEN 1 ELSE 0 END) AS ga_begin_checkout,\n",
        "          MAX(CASE WHEN event_name IN ('purchase', 'in_app_purchase') THEN 1 ELSE 0 END) AS ga_online_purchase\n",
        "      FROM `bigquery-public-data.ga4_obfuscated_sample_ecommerce.events_*`\n",
        "      WHERE _TABLE_SUFFIX BETWEEN '20210101' AND '20210131'\n",
        "      GROUP BY 1,2\n",
        "    ),\n",
        "    crm_data AS(\n",
        "      SELECT customer_id AS crm_client_id,\n",
        "      Age AS crm_age,\n",
        "      Super_Saver_Club AS crm_club\n",
        "      FROM `<your-project-id>.AA_DevFest23.crm_customer_info`\n",
        "    )\n",
        "  SELECT * EXCEPT (ga_customer_id,crm_client_id, customer_id ) FROM online_data\n",
        "  LEFT JOIN crm_data\n",
        "  ON online_data.ga_customer_id = crm_data.crm_client_id\n",
        "  LEFT JOIN  online_behavior\n",
        "  ON online_data.ga_customer_id = online_behavior.customer_id\n",
        "  ORDER BY first_transaction_date\n",
        "\"\"\""
      ],
      "metadata": {
        "id": "bqi-VYqvi41s"
      },
      "execution_count": null,
      "outputs": []
    },
    {
      "cell_type": "code",
      "source": [
        "model_name = \"xgb_devfest23_20231014\"\n",
        "\n",
        "training_query = f\"\"\"\n",
        "  CREATE MODEL `{project_id}.{model_dataset}.{model_name}`\n",
        "  OPTIONS(\n",
        "    model_type=\"BOOSTED_TREE_REGRESSOR\",\n",
        "    num_parallel_tree=1,\n",
        "    booster_type=\"gbtree\",\n",
        "    tree_method=\"auto\",\n",
        "    l1_reg=0.0,\n",
        "    l2_reg=1.0,\n",
        "    early_stop=True,\n",
        "    learn_rate=0.3,\n",
        "    max_iterations=20,\n",
        "    min_rel_progress=0.01,\n",
        "    enable_global_explain=True,\n",
        "    xgboost_version=\"0.9\",\n",
        "    data_split_method=\"NO_SPLIT\",\n",
        "    INPUT_LABEL_COLS=[\"purchase_rev\"])\n",
        "  AS\n",
        "  (\n",
        "    {feature_eng_query}\n",
        "  )\n",
        "\"\"\""
      ],
      "metadata": {
        "id": "LW1-q9Y2gby1"
      },
      "execution_count": null,
      "outputs": []
    },
    {
      "cell_type": "code",
      "source": [
        "# Training will take approximatively 5 min to complete\n",
        "\n",
        "# Running read job on BigQuery\n",
        "training_job = client.query(\n",
        "    training_query,\n",
        "    location=\"US\",\n",
        ")  # API request - starts the query\n",
        "\n",
        "training_job.result()  # Waits for the query to finish\n",
        "ic(\"Model training completed\")\n"
      ],
      "metadata": {
        "id": "6Sg58xHkgQl0"
      },
      "execution_count": null,
      "outputs": []
    },
    {
      "cell_type": "code",
      "source": [
        "# Name of the model created before. Only used when access to another model is needed\n",
        "# model_name = \"xgb_devfest23_20231014\""
      ],
      "metadata": {
        "id": "WbpnoMbuprzl"
      },
      "execution_count": null,
      "outputs": []
    },
    {
      "cell_type": "code",
      "source": [
        "ml_evaluate_query = f\"\"\"\n",
        "      SELECT *\n",
        "      FROM ML.EVALUATE(MODEL `{project_id}.{model_dataset}.{model_name}`)\n",
        "    \"\"\"\n",
        "\n",
        "ml_evaluate_job = client.query(\n",
        "    ml_evaluate_query,\n",
        "    location=\"US\",\n",
        ")  # API request - starts the query\n",
        "\n",
        "\n",
        "ml_evaluate_job.result()  # Waits for the query to finish\n",
        "\n",
        "evaluate = ml_evaluate_job.to_dataframe()\n",
        "evaluate"
      ],
      "metadata": {
        "id": "ngnoIa2MmT2H"
      },
      "execution_count": null,
      "outputs": []
    },
    {
      "cell_type": "markdown",
      "source": [
        "Using simple feature engineering, the R-Squared has increased to 0.78. <br>\n",
        "Model tuning should be considered to improve model predictions."
      ],
      "metadata": {
        "id": "CbqMAn2D-LPd"
      }
    },
    {
      "cell_type": "markdown",
      "source": [
        "# **DEMO 3:** Generative AI with BigQuery"
      ],
      "metadata": {
        "id": "n_JXEwjoNUxg"
      }
    },
    {
      "cell_type": "markdown",
      "source": [
        "The following Generative AI features are now generally available (GA) in BigQuery ML:\n",
        "\n",
        "- Creating a remote model based on the Vertex AI large language model (LLM) text-bison.\n",
        "- Using the ML.GENERATE_TEXT function with an LLM-based remote model to perform generative natural language tasks on text stored in BigQuery tables.\n",
        "\n",
        "\n",
        "The following demo is based the \"[text-bison](https://cloud.google.com/vertex-ai/docs/generative-ai/learn/models#foundation_models)\" large language model (LLM) and the Google PaLM API."
      ],
      "metadata": {
        "id": "ybn3j17aQSNU"
      }
    },
    {
      "cell_type": "markdown",
      "source": [
        "## 1: Demo setup"
      ],
      "metadata": {
        "id": "JZ-u16XAMRw9"
      }
    },
    {
      "cell_type": "code",
      "source": [
        "!pip install -q icecream\n",
        "\n",
        "import pandas as pd\n",
        "from google.cloud import bigquery\n",
        "from icecream import ic\n"
      ],
      "metadata": {
        "id": "cpy94u6grxE0"
      },
      "execution_count": null,
      "outputs": []
    },
    {
      "cell_type": "markdown",
      "source": [
        "Before you start, you need to setup your environment as described in this turorial:\n",
        "\n",
        "https://cloud.google.com/bigquery/docs/generate-text-tutorial\n",
        "\n",
        "\n",
        "1. Verify required permissions\n",
        "2. Create a dataset (remember the name for later)\n",
        "3. Create a connection (remember the name for later)\n",
        "4. Grant permissions to the connection\n",
        "\n",
        "**STOP AFTER STEP 4** and do not complete the \"**Create the remote model**\" task. You will do it later in this Notebook.\n",
        "\n",
        "\n",
        "\n",
        "\n"
      ],
      "metadata": {
        "id": "JE3x4W3uMZaR"
      }
    },
    {
      "cell_type": "code",
      "source": [
        "#Authentication (if needed)\n",
        "\n",
        "import os\n",
        "\n",
        "if \"GOOGLE_CLOUD_REGION\" in os.environ:\n",
        "  print(\"This notebook is running in Google Cloud. No additional authentication is needed\")\n",
        "else:\n",
        "  print(\"This notebook is running in Google Colab.\")\n",
        "  from google.colab import auth\n",
        "  auth.authenticate_user()\n",
        "\n",
        "ic(\"User authenticated\")"
      ],
      "metadata": {
        "id": "jWjRb3KPMu8m"
      },
      "execution_count": null,
      "outputs": []
    },
    {
      "cell_type": "code",
      "source": [
        "# MUST BE CHANGED: Project id and LLM model to create\n",
        "\n",
        "# The id of your Google Cloud project\n",
        "project_id = \"<your-project-id>\" #@param\n",
        "\n",
        "# The name of the dataset you created during lab setupt\n",
        "model_dataset = \"DevFest23\" #@param\n",
        "\n",
        "# The name of the connection you created during setup. Something like \"us.connection-vertex-llm\"\n",
        "llm_connection_name = \"<your-connexion-to-llm>\" #@param\n"
      ],
      "metadata": {
        "id": "iBC6L0LgR_oK"
      },
      "execution_count": null,
      "outputs": []
    },
    {
      "cell_type": "code",
      "source": [
        "# Connection to BigQuery\n",
        "\n",
        "client = bigquery.Client(location=\"US\", project=project_id)\n",
        "print(f\"BQ client created using project ID: {client.project}\")"
      ],
      "metadata": {
        "id": "D5W6lIoGu-jL"
      },
      "execution_count": null,
      "outputs": []
    },
    {
      "cell_type": "code",
      "source": [
        "# # Create the view for the movie reviews\n",
        "\n",
        "query = f\"\"\"\n",
        "  CREATE OR REPLACE VIEW `{project_id}.{model_dataset}.review_examples`\n",
        "  AS (\n",
        "    SELECT * FROM `bigquery-public-data.imdb.reviews`\n",
        "    WHERE movie_id in ('tt0202382', 'tt0163955', 'tt0462053')\n",
        "    )\n",
        "\n",
        "\"\"\"\n",
        "\n",
        "bq_job = client.query(\n",
        "    query,\n",
        "    # Location must match that of the dataset(s) referenced in the query.\n",
        "    location=\"US\",\n",
        ")  # API request - starts the query\n",
        "\n",
        "bq_job.result()  # Waits for the query to finish\n",
        "\n",
        "\n",
        "ic(\"Review Examples view created\")"
      ],
      "metadata": {
        "id": "iqEAla3X5eQH"
      },
      "execution_count": null,
      "outputs": []
    },
    {
      "cell_type": "markdown",
      "source": [
        "## 2: Create connection to LLM remote model"
      ],
      "metadata": {
        "id": "lNFFktvXh0SG"
      }
    },
    {
      "cell_type": "code",
      "source": [
        "# MUST BE CHANGED: Give a name to the LLM model you want to create (e.g remote_llm_ga4)\n",
        "genai_model = \"remote_llm_devfest\" #@param"
      ],
      "metadata": {
        "id": "506uXSP5RD8f"
      },
      "execution_count": null,
      "outputs": []
    },
    {
      "cell_type": "code",
      "source": [
        "# Only run once to create the reference to the remote LLM model\n",
        "\n",
        "query = f\"\"\"\n",
        "  CREATE MODEL IF NOT EXISTS  {model_dataset}.{genai_model}\n",
        "    REMOTE WITH CONNECTION {llm_connection_name}\n",
        "    OPTIONS (remote_service_type = 'CLOUD_AI_LARGE_LANGUAGE_MODEL_V1')\n",
        "\n",
        "\"\"\"\n",
        "\n",
        "query_job = client.query(\n",
        "    query,\n",
        "    location=\"US\",\n",
        ")  # API request - starts the query\n",
        "\n",
        "\n",
        "query_job.result()  # Waits for the query to finish\n",
        "ic(\"Connection to Google Cloud Generative AI model created\")\n",
        "ic(model_dataset, genai_model)\n",
        "\n"
      ],
      "metadata": {
        "id": "sbSGi7ejSaWa"
      },
      "execution_count": null,
      "outputs": []
    },
    {
      "cell_type": "markdown",
      "source": [
        "## 3: Gen AI for Summary and classification"
      ],
      "metadata": {
        "id": "6sRc01Y0fVDX"
      }
    },
    {
      "cell_type": "code",
      "source": [
        "#@title Brief overview of review data\n",
        "query = f\"\"\"\n",
        "    SELECT review, movie_id\n",
        "    FROM {project_id}.{model_dataset}.review_examples\n",
        "    ORDER BY movie_id\n",
        "\"\"\"\n",
        "\n",
        "\n",
        "query_job = client.query(\n",
        "    query,\n",
        "    # Location must match that of the dataset(s) referenced in the query.\n",
        "    location=\"US\",\n",
        ")  # API request - starts the query\n",
        "\n",
        "df = query_job.to_dataframe()\n",
        "print(f\"Read from review table completed.\")\n",
        "df.head(10)"
      ],
      "metadata": {
        "id": "hUq5xkNiN-s2"
      },
      "execution_count": null,
      "outputs": []
    },
    {
      "cell_type": "code",
      "source": [
        "# DEMO PROMPT EXAMPLES\n",
        "\n",
        "# \"Summarize the review in a 3 bullet points\"\n",
        "# \"Summarize the review in less than 60 words and give me the summary in French\"\n",
        "# \"Identify if is rather a positive or a negative review, and explain why\"\n",
        "# \"Identify review content about the actors\"\n",
        "# \"Summarize positive feedback about the actors and negative feedback about the movie\"\n",
        "# \"Give a rating for each review, from 1 to 5, 1 being an extremely negative value and 5 being a very positive review\"\n"
      ],
      "metadata": {
        "id": "IK54Y_5F1Sat"
      },
      "execution_count": null,
      "outputs": []
    },
    {
      "cell_type": "code",
      "source": [
        "prompt = \"Summarize the review in a 3 bullet points\" #@param"
      ],
      "metadata": {
        "cellView": "form",
        "id": "5FBwo8uL1Gbs"
      },
      "execution_count": null,
      "outputs": []
    },
    {
      "cell_type": "code",
      "source": [
        "# Use Generative AI to create a campaign decription based on information stored in BigQuery\n",
        "# The prompt uses GA4 data: items.promotion_name\n",
        "\n",
        "gen_ai_query = f\"\"\"\n",
        "\n",
        "  SELECT *\n",
        "    FROM\n",
        "      ML.GENERATE_TEXT(\n",
        "        MODEL {model_dataset}.{genai_model},\n",
        "        (\n",
        "        SELECT CONCAT('{prompt}: ',review) AS prompt\n",
        "        FROM {project_id}.{model_dataset}.review_examples\n",
        "\n",
        "        ),\n",
        "        STRUCT(\n",
        "          0.2 AS temperature, 600 AS max_output_tokens, 0.2 AS top_p, 15 AS top_k))\n",
        "\"\"\"\n",
        "\n",
        "\n",
        "print(f\"Generative AI query set using prompt:  \\\"{prompt}\\\"\")"
      ],
      "metadata": {
        "id": "XelVqn6DfmyS"
      },
      "execution_count": null,
      "outputs": []
    },
    {
      "cell_type": "code",
      "source": [
        "gen_ai_job = client.query(\n",
        "    gen_ai_query,\n",
        "    # Location must match that of the dataset(s) referenced in the query.\n",
        "    location=\"US\",\n",
        ")  # API request - starts the query\n",
        "\n",
        "df = gen_ai_job.to_dataframe()\n",
        "df\n"
      ],
      "metadata": {
        "id": "I4KOscLYfp3k"
      },
      "execution_count": null,
      "outputs": []
    },
    {
      "cell_type": "markdown",
      "source": [
        "\n",
        "\n",
        "---\n",
        "\n"
      ],
      "metadata": {
        "id": "vOi5wwCjpgyA"
      }
    },
    {
      "cell_type": "markdown",
      "source": [
        "## 4: Test multiple Gen AI parameters"
      ],
      "metadata": {
        "id": "MTqhT91ehSKH"
      }
    },
    {
      "cell_type": "markdown",
      "source": [
        "* **Temperature**: [0.0,1.0] It controls the degree of randomness in token selection. Lower temperature values are good for prompts that require a more deterministic and less open-ended or creative response.\n",
        "\n",
        "* **top_k**: [1,40] Top-K changes how the model selects tokens for output. A top-K of 1 means the next selected token is the most probable among all tokens in the model's vocabulary. Higher means more randomness (default is 40).\n",
        "\n",
        "* **top_p**: [0.0,1.0] Top-P changes how the model selects tokens for output. Tokens are selected from the most (see top-K) to least probable until the sum of their probabilities equals the top-P value. Higher means more randomness(default is 0.95).\n",
        "\n"
      ],
      "metadata": {
        "id": "ITH9pRWvtbPm"
      }
    },
    {
      "cell_type": "code",
      "source": [
        "\n",
        "# @markdown ### Update values below to test different GEN AI options\n",
        "# @markdown ---\n",
        "\n",
        "temp = 0.2 #@param {type:\"slider\", min:0, max:1, step:0.1}\n",
        "max_tokens = 650 #@param\n",
        "top_k = 40 #@param\n",
        "top_p = 0.95 #@param\n",
        "\n",
        "\n",
        "# e.g\n",
        "prompt = \"Do something clever with BQ data\" #@param"
      ],
      "metadata": {
        "id": "81Y_654piYvX"
      },
      "execution_count": null,
      "outputs": []
    },
    {
      "cell_type": "code",
      "source": [
        "# Use Generative AI to create a campaign decription based on information stored in BigQuery\n",
        "# The STRUCT includes multiple query parameters to influence Gen AI responses\n",
        "\n",
        "gen_ai_query = f\"\"\"\n",
        "\n",
        "  SELECT *\n",
        "    FROM\n",
        "      \"Summarize positive feedback about the actors and negative feedback about the movie\"(\n",
        "      MODEL {model_dataset}.{genai_model},\n",
        "      (\n",
        "      SELECT CONCAT('{prompt}', review) AS prompt\n",
        "      FROM `{project_id}.{model_dataset}.imdb_reviews`\n",
        "      LIMIT 5\n",
        "      ),\n",
        "      STRUCT(\n",
        "        {temp} AS temperature, {max_tokens} AS max_output_tokens, {top_p} AS top_p, {top_k} AS top_k));\n",
        "\n",
        "\"\"\"\n",
        "\n",
        "\n",
        "ic(\"Generative AI query set. Ready to start generation\")"
      ],
      "metadata": {
        "id": "oaKAbNxqiDFs"
      },
      "execution_count": null,
      "outputs": []
    },
    {
      "cell_type": "code",
      "source": [
        "gen_ai_job = client.query(\n",
        "    gen_ai_query,\n",
        "    # Location must match that of the dataset(s) referenced in the query.\n",
        "    location=\"US\",\n",
        ")  # API request - starts the query\n",
        "\n",
        "df = gen_ai_job.to_dataframe()\n",
        "df"
      ],
      "metadata": {
        "id": "bjplQcGCjEwK"
      },
      "execution_count": null,
      "outputs": []
    }
  ]
}