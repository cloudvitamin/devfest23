{
  "cells": [
    {
      "cell_type": "markdown",
      "metadata": {
        "id": "LjRnk28TPKBB"
      },
      "source": [
        "#DevFest 2023 - Data Science & AI/ML Demos\n",
        "\n",
        "**Authors**: jlmarechaux@google.com\n",
        "\n",
        "(October 2023)\n",
        "\n",
        "..\n",
        "\n",
        "\n",
        "\n",
        "---\n",
        "\n"
      ]
    },
    {
      "cell_type": "markdown",
      "metadata": {
        "id": "LTwsfa6ZnJa5"
      },
      "source": [
        "**DEMO CODE - DO NOT USE IN PRODUCTION**"
      ]
    },
    {
      "cell_type": "code",
      "execution_count": null,
      "metadata": {
        "id": "PhV1ABkYm-YE"
      },
      "outputs": [],
      "source": [
        "###########################################################################\n",
        "#\n",
        "#  Copyright 2023 Google Inc.\n",
        "#\n",
        "#  Licensed under the Apache License, Version 2.0 (the \"License\");\n",
        "#  you may not use this file except in compliance with the License.\n",
        "#  You may obtain a copy of the License at\n",
        "#\n",
        "#      https://www.apache.org/licenses/LICENSE-2.0\n",
        "#\n",
        "#  Unless required by applicable law or agreed to in writing, software\n",
        "#  distributed under the License is distributed on an \"AS IS\" BASIS,\n",
        "#  WITHOUT WARRANTIES OR CONDITIONS OF ANY KIND, either express or implied.\n",
        "#  See the License for the specific language governing permissions and\n",
        "#  limitations under the License.\n",
        "#\n",
        "# This solution, including any related sample code or data, is made available\n",
        "# on an “as is,” “as available,” and “with all faults” basis, solely for\n",
        "# illustrative purposes, and without warranty or representation of any kind.\n",
        "# This solution is experimental, unsupported and provided solely for your\n",
        "# convenience. Your use of it is subject to your agreements with Google, as\n",
        "# applicable, and may constitute a beta feature as defined under those\n",
        "# agreements.  To the extent that you make any data available to Google in\n",
        "# connection with your use of the solution, you represent and warrant that you\n",
        "# have all necessary and appropriate rights, consents and permissions to permit\n",
        "# Google to use and process that data.  By using any portion of this solution,\n",
        "# you acknowledge, assume and accept all risks, known and unknown, associated\n",
        "# with its usage, including with respect to your deployment of any portion of\n",
        "# this solution in your systems, or usage in connection with your business,\n",
        "# if at all.\n",
        "###########################################################################"
      ]
    },
    {
      "cell_type": "markdown",
      "metadata": {
        "id": "tqGzrl6w29QG"
      },
      "source": [
        "# **DEMO 1**: Data exploration & visualization"
      ]
    },
    {
      "cell_type": "markdown",
      "metadata": {
        "id": "RbqGNYvDFZq2"
      },
      "source": [
        "# **DEMO 2:** ML Modeling - Predict purchase revenue"
      ]
    },
    {
      "cell_type": "markdown",
      "metadata": {
        "id": "n_JXEwjoNUxg"
      },
      "source": [
        "# **DEMO 3:** Generative AI with BigQuery"
      ]
    }
  ],
  "metadata": {
    "colab": {
      "provenance": [],
      "toc_visible": true
    },
    "kernelspec": {
      "display_name": "Python 3",
      "name": "python3"
    }
  },
  "nbformat": 4,
  "nbformat_minor": 0
}
